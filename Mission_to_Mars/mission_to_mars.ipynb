{
 "cells": [
  {
   "cell_type": "code",
   "execution_count": 1,
   "metadata": {},
   "outputs": [],
   "source": [
    "#!pip install splinter"
   ]
  },
  {
   "cell_type": "code",
   "execution_count": 1,
   "metadata": {},
   "outputs": [],
   "source": [
    "import pandas as pd\n",
    "import json\n",
    "from splinter import Browser\n",
    "from bs4 import BeautifulSoup as bs"
   ]
  },
  {
   "cell_type": "code",
   "execution_count": 2,
   "metadata": {},
   "outputs": [],
   "source": [
    "# Create the exe path for chrome to open chrome page and will open a chrome window\n",
    "executable_path = {'executable_path': 'chromedriver.exe'}\n",
    "browser = Browser('chrome', **executable_path, headless=False)"
   ]
  },
  {
   "cell_type": "markdown",
   "metadata": {},
   "source": [
    "### NASA Mars News"
   ]
  },
  {
   "cell_type": "code",
   "execution_count": 3,
   "metadata": {},
   "outputs": [],
   "source": [
    "# URL of NASA Mars site, News page to be scraped\n",
    "mars_url = 'https://mars.nasa.gov/news/'\n",
    "browser.visit(mars_url)\n",
    "\n",
    "# Get HTML page with the browser; create BeautifulSoup object; parse with 'html.parser'\n",
    "mars_html = browser.html\n",
    "soup = bs(mars_html, 'html.parser')\n",
    "#print(soup.prettify())"
   ]
  },
  {
   "cell_type": "code",
   "execution_count": 4,
   "metadata": {},
   "outputs": [
    {
     "name": "stdout",
     "output_type": "stream",
     "text": [
      "Title: A Martian Roundtrip: NASA's Perseverance Rover Sample Tubes\n",
      "Paragraph: Marvels of engineering, the rover's sample tubes must be tough enough to safely bring Red Planet samples on the long journey back to Earth in immaculate condition. \n"
     ]
    }
   ],
   "source": [
    "# Collect the latest News Title and Paragraph Text.\n",
    "# Assign the text to variables to be referenced later.\n",
    "news_title = soup.find('li',class_=\"slide\").find('div', class_='content_title').text\n",
    "news_p = soup.find('div', class_='article_teaser_body').text\n",
    "\n",
    "print (f'Title: {news_title}')\n",
    "print (f'Paragraph: {news_p}')"
   ]
  },
  {
   "cell_type": "markdown",
   "metadata": {},
   "source": [
    "### JPL Mars Space Images - Featured Image"
   ]
  },
  {
   "cell_type": "code",
   "execution_count": 5,
   "metadata": {},
   "outputs": [
    {
     "name": "stdout",
     "output_type": "stream",
     "text": [
      "Large picture url is: https://www.jpl.nasa.gov/spaceimages/images/largesize/PIA17009_hires.jpg\n"
     ]
    }
   ],
   "source": [
    "# URL of NASA Mars site, JPL Featured Space Images page to be scraped\n",
    "base_url = 'https://www.jpl.nasa.gov'\n",
    "mar_space_images_url = base_url + '/spaceimages/?search=&category=Mars'\n",
    "browser.visit(mar_space_images_url)\n",
    "\n",
    "# Find and Click \"FULL IMAGE\" button\n",
    "full_image_data = browser.find_by_id('full_image')\n",
    "full_image_data.click()\n",
    "\n",
    "# Find and Click 'more info' button, wait a second\n",
    "more_info_data = browser.links.find_by_partial_text('more info')\n",
    "more_info_data.click()\n",
    "\n",
    "# Find the actual website path we are going to scrape and read/show the data using BeautifulSoup\n",
    "html = browser.html\n",
    "soup = bs(html, 'html.parser')\n",
    "#print(soup.prettify())\n",
    "\n",
    "# Find featured_image_url large size\n",
    "try:    \n",
    "    featured_image_url = soup.find('figure', class_='lede').a['href']\n",
    "    full_image_url = base_url + featured_image_url\n",
    "    print(f\"Large picture url is: {full_image_url}\") \n",
    "    \n",
    "except AttributeError as e:\n",
    "    print(e)"
   ]
  },
  {
   "cell_type": "markdown",
   "metadata": {},
   "source": [
    "### Mars Facts"
   ]
  },
  {
   "cell_type": "markdown",
   "metadata": {},
   "source": [
    "#### To scrape the table containing facts about the planet"
   ]
  },
  {
   "cell_type": "code",
   "execution_count": 7,
   "metadata": {},
   "outputs": [
    {
     "data": {
      "text/html": [
       "<div>\n",
       "<style scoped>\n",
       "    .dataframe tbody tr th:only-of-type {\n",
       "        vertical-align: middle;\n",
       "    }\n",
       "\n",
       "    .dataframe tbody tr th {\n",
       "        vertical-align: top;\n",
       "    }\n",
       "\n",
       "    .dataframe thead th {\n",
       "        text-align: right;\n",
       "    }\n",
       "</style>\n",
       "<table border=\"1\" class=\"dataframe\">\n",
       "  <thead>\n",
       "    <tr style=\"text-align: right;\">\n",
       "      <th></th>\n",
       "      <th>Fact</th>\n",
       "      <th>Fact Value</th>\n",
       "    </tr>\n",
       "  </thead>\n",
       "  <tbody>\n",
       "    <tr>\n",
       "      <th>0</th>\n",
       "      <td>Equatorial Diameter</td>\n",
       "      <td>6,792 km</td>\n",
       "    </tr>\n",
       "    <tr>\n",
       "      <th>1</th>\n",
       "      <td>Polar Diameter</td>\n",
       "      <td>6,752 km</td>\n",
       "    </tr>\n",
       "    <tr>\n",
       "      <th>2</th>\n",
       "      <td>Mass</td>\n",
       "      <td>6.39 × 10^23 kg (0.11 Earths)</td>\n",
       "    </tr>\n",
       "    <tr>\n",
       "      <th>3</th>\n",
       "      <td>Moons</td>\n",
       "      <td>2 (Phobos &amp; Deimos)</td>\n",
       "    </tr>\n",
       "    <tr>\n",
       "      <th>4</th>\n",
       "      <td>Orbit Distance</td>\n",
       "      <td>227,943,824 km (1.38 AU)</td>\n",
       "    </tr>\n",
       "    <tr>\n",
       "      <th>5</th>\n",
       "      <td>Orbit Period</td>\n",
       "      <td>687 days (1.9 years)</td>\n",
       "    </tr>\n",
       "    <tr>\n",
       "      <th>6</th>\n",
       "      <td>Surface Temperature</td>\n",
       "      <td>-87 to -5 °C</td>\n",
       "    </tr>\n",
       "    <tr>\n",
       "      <th>7</th>\n",
       "      <td>First Record</td>\n",
       "      <td>2nd millennium BC</td>\n",
       "    </tr>\n",
       "    <tr>\n",
       "      <th>8</th>\n",
       "      <td>Recorded By</td>\n",
       "      <td>Egyptian astronomers</td>\n",
       "    </tr>\n",
       "  </tbody>\n",
       "</table>\n",
       "</div>"
      ],
      "text/plain": [
       "                  Fact                     Fact Value\n",
       "0  Equatorial Diameter                       6,792 km\n",
       "1       Polar Diameter                       6,752 km\n",
       "2                 Mass  6.39 × 10^23 kg (0.11 Earths)\n",
       "3                Moons            2 (Phobos & Deimos)\n",
       "4       Orbit Distance       227,943,824 km (1.38 AU)\n",
       "5         Orbit Period           687 days (1.9 years)\n",
       "6  Surface Temperature                   -87 to -5 °C\n",
       "7         First Record              2nd millennium BC\n",
       "8          Recorded By           Egyptian astronomers"
      ]
     },
     "execution_count": 7,
     "metadata": {},
     "output_type": "execute_result"
    }
   ],
   "source": [
    "# Visit the url to be scraped\n",
    "url = 'http://space-facts.com/mars/'\n",
    "tables = pd.read_html(url)\n",
    "facts_df = pd.DataFrame(tables[0])\n",
    "facts_df.columns = [\"Fact\",\"Fact Value\"]\n",
    "facts_df['Fact'] = facts_df['Fact'].str.replace(':', '')\n",
    "facts_df"
   ]
  },
  {
   "cell_type": "code",
   "execution_count": 8,
   "metadata": {},
   "outputs": [
    {
     "name": "stdout",
     "output_type": "stream",
     "text": [
      "<table border=\"1\" class=\"dataframe\">\n",
      "  <thead>\n",
      "    <tr style=\"text-align: right;\">\n",
      "      <th>Fact</th>\n",
      "      <th>Fact Value</th>\n",
      "    </tr>\n",
      "  </thead>\n",
      "  <tbody>\n",
      "    <tr>\n",
      "      <td>Equatorial Diameter</td>\n",
      "      <td>6,792 km</td>\n",
      "    </tr>\n",
      "    <tr>\n",
      "      <td>Polar Diameter</td>\n",
      "      <td>6,752 km</td>\n",
      "    </tr>\n",
      "    <tr>\n",
      "      <td>Mass</td>\n",
      "      <td>6.39 × 10^23 kg (0.11 Earths)</td>\n",
      "    </tr>\n",
      "    <tr>\n",
      "      <td>Moons</td>\n",
      "      <td>2 (Phobos &amp; Deimos)</td>\n",
      "    </tr>\n",
      "    <tr>\n",
      "      <td>Orbit Distance</td>\n",
      "      <td>227,943,824 km (1.38 AU)</td>\n",
      "    </tr>\n",
      "    <tr>\n",
      "      <td>Orbit Period</td>\n",
      "      <td>687 days (1.9 years)</td>\n",
      "    </tr>\n",
      "    <tr>\n",
      "      <td>Surface Temperature</td>\n",
      "      <td>-87 to -5 °C</td>\n",
      "    </tr>\n",
      "    <tr>\n",
      "      <td>First Record</td>\n",
      "      <td>2nd millennium BC</td>\n",
      "    </tr>\n",
      "    <tr>\n",
      "      <td>Recorded By</td>\n",
      "      <td>Egyptian astronomers</td>\n",
      "    </tr>\n",
      "  </tbody>\n",
      "</table>\n"
     ]
    }
   ],
   "source": [
    "# Convert the data to a HTML table string\n",
    "facts_html = facts_df.to_html(index =False, header =True)\n",
    "print(facts_html)"
   ]
  },
  {
   "cell_type": "markdown",
   "metadata": {},
   "source": [
    "### Mars Hemispheres"
   ]
  },
  {
   "cell_type": "markdown",
   "metadata": {},
   "source": [
    "#### To obtain high resolution images for each of Mar's hemispheres"
   ]
  },
  {
   "cell_type": "code",
   "execution_count": 9,
   "metadata": {},
   "outputs": [],
   "source": [
    "# Find the actual website path we are going to scrape and visit the url to be scraped\n",
    "base_url = 'https://astrogeology.usgs.gov'\n",
    "url = base_url + '/search/results?q=hemisphere+enhanced&k1=target&v1=Mars'\n",
    "browser.visit(url)\n",
    "\n",
    "# Read/show the data using BeautifulSoup\n",
    "html = browser.html\n",
    "soup = bs(html,'html')\n",
    "#print(soup.prettify())"
   ]
  },
  {
   "cell_type": "code",
   "execution_count": 10,
   "metadata": {},
   "outputs": [
    {
     "data": {
      "text/plain": [
       "[{'title': 'Cerberus Hemisphere Enhanced',\n",
       "  'img_url': 'https://astrogeology.usgs.gov/cache/images/f5e372a36edfa389625da6d0cc25d905_cerberus_enhanced.tif_full.jpg'},\n",
       " {'title': 'Schiaparelli Hemisphere Enhanced',\n",
       "  'img_url': 'https://astrogeology.usgs.gov/cache/images/3778f7b43bbbc89d6e3cfabb3613ba93_schiaparelli_enhanced.tif_full.jpg'},\n",
       " {'title': 'Syrtis Major Hemisphere Enhanced',\n",
       "  'img_url': 'https://astrogeology.usgs.gov/cache/images/555e6403a6ddd7ba16ddb0e471cadcf7_syrtis_major_enhanced.tif_full.jpg'},\n",
       " {'title': 'Valles Marineris Hemisphere Enhanced',\n",
       "  'img_url': 'https://astrogeology.usgs.gov/cache/images/b3c7c6c9138f57b4756be9b9c43e3a48_valles_marineris_enhanced.tif_full.jpg'}]"
      ]
     },
     "execution_count": 10,
     "metadata": {},
     "output_type": "execute_result"
    }
   ],
   "source": [
    "# Extracted the titles and the image browser url to extract the full resolution image\n",
    "image_urls = [(a.text, a['href']) for a in browser.find_by_css('div[class=\"description\"] a')]\n",
    "#print(image_urls)\n",
    "\n",
    "hemisphere_image_urls = []\n",
    "\n",
    "for title,url in image_urls:\n",
    "    # Used a Python dictionary to store the data\n",
    "    temp = {}\n",
    "    temp['title'] = title\n",
    "    \n",
    "    # Visit the url to look for image url\n",
    "    browser.visit(url)\n",
    "    img_url = browser.find_by_css('img[class=\"wide-image\"]')['src']\n",
    "    temp['img_url'] = img_url\n",
    "    \n",
    "    # Appended each hemisphere info of all hemipheres to the list\n",
    "    hemisphere_image_urls.append(temp)\n",
    "\n",
    "# Displayed titles and image links\n",
    "hemisphere_image_urls"
   ]
  },
  {
   "cell_type": "code",
   "execution_count": 11,
   "metadata": {},
   "outputs": [],
   "source": [
    "# Exit the browser for clean re-run\n",
    "browser.quit()"
   ]
  }
 ],
 "metadata": {
  "kernelspec": {
   "display_name": "Python 3",
   "language": "python",
   "name": "python3"
  },
  "language_info": {
   "codemirror_mode": {
    "name": "ipython",
    "version": 3
   },
   "file_extension": ".py",
   "mimetype": "text/x-python",
   "name": "python",
   "nbconvert_exporter": "python",
   "pygments_lexer": "ipython3",
   "version": "3.8.3"
  }
 },
 "nbformat": 4,
 "nbformat_minor": 4
}
